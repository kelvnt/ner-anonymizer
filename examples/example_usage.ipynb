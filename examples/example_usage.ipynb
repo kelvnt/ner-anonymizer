{
 "cells": [
  {
   "cell_type": "markdown",
   "metadata": {},
   "source": [
    "# Data Anonymizer\n",
    "\n",
    "DataAnonymizer handles anonymization in free text columns by using named entity recognition (NER) with a pretrained mdoel from the [transformers](https://huggingface.co/transformers/) package to pick up entities such as location and person, generate a MD5 hash for the entity, replaces the entity with the hash, and stores the hash to entity in a dictionary for de-anonymization. A similar process is repeated for categorical columns, without the use of NER.\n",
    "\n",
    "This notebook will demonstrate the usage of this by testing it on some Wikipedia data."
   ]
  },
  {
   "cell_type": "markdown",
   "metadata": {},
   "source": [
    "### Grab some data from Wikipedia"
   ]
  },
  {
   "cell_type": "code",
   "execution_count": 1,
   "metadata": {},
   "outputs": [
    {
     "name": "stderr",
     "output_type": "stream",
     "text": [
      "\u001b[34m\u001b[1mwandb\u001b[0m: \u001b[33mWARNING\u001b[0m W&B installed but not logged in.  Run `wandb login` or set the WANDB_API_KEY env variable.\n"
     ]
    }
   ],
   "source": [
    "import wikipedia\n",
    "import pandas as pd\n",
    "import ner_anonymizer"
   ]
  },
  {
   "cell_type": "code",
   "execution_count": 2,
   "metadata": {},
   "outputs": [],
   "source": [
    "person = []\n",
    "page_content = []\n",
    "\n",
    "for _person in [\"Andrew Ng\", \"Jacinda Ardern\"]:\n",
    "    person.append(_person)\n",
    "    page_content.append(wikipedia.page(wikipedia.search(_person)[0]).content)"
   ]
  },
  {
   "cell_type": "code",
   "execution_count": 3,
   "metadata": {},
   "outputs": [
    {
     "data": {
      "text/html": [
       "<div>\n",
       "<style scoped>\n",
       "    .dataframe tbody tr th:only-of-type {\n",
       "        vertical-align: middle;\n",
       "    }\n",
       "\n",
       "    .dataframe tbody tr th {\n",
       "        vertical-align: top;\n",
       "    }\n",
       "\n",
       "    .dataframe thead th {\n",
       "        text-align: right;\n",
       "    }\n",
       "</style>\n",
       "<table border=\"1\" class=\"dataframe\">\n",
       "  <thead>\n",
       "    <tr style=\"text-align: right;\">\n",
       "      <th></th>\n",
       "      <th>person</th>\n",
       "      <th>page_content</th>\n",
       "    </tr>\n",
       "  </thead>\n",
       "  <tbody>\n",
       "    <tr>\n",
       "      <th>0</th>\n",
       "      <td>Andrew Ng</td>\n",
       "      <td>Andrew Yan-Tak Ng (Chinese: 吳恩達; born 1976) is...</td>\n",
       "    </tr>\n",
       "    <tr>\n",
       "      <th>1</th>\n",
       "      <td>Jacinda Ardern</td>\n",
       "      <td>Jacinda Kate Laurell Ardern (, NZ pronunciatio...</td>\n",
       "    </tr>\n",
       "  </tbody>\n",
       "</table>\n",
       "</div>"
      ],
      "text/plain": [
       "           person                                       page_content\n",
       "0       Andrew Ng  Andrew Yan-Tak Ng (Chinese: 吳恩達; born 1976) is...\n",
       "1  Jacinda Ardern  Jacinda Kate Laurell Ardern (, NZ pronunciatio..."
      ]
     },
     "execution_count": 3,
     "metadata": {},
     "output_type": "execute_result"
    }
   ],
   "source": [
    "df = pd.DataFrame({\"person\": person,\n",
    "                   \"page_content\": page_content})\n",
    "df.head()"
   ]
  },
  {
   "cell_type": "code",
   "execution_count": 4,
   "metadata": {},
   "outputs": [
    {
     "data": {
      "text/plain": [
       "'Andrew Yan-Tak Ng (Chinese: 吳恩達; born 1976) is a British-born American businessman, computer scientist, investor, and writer. He is focusing on machine learning and AI. As a businessman and investor, Ng co-founded and led Google Brain and was a former Vice President and Chief Scientist at Baidu, building the company\\'s Artificial Intelligence Group into a team of several thousand people.Ng is an adjunct professor at Stanford University (formerly associate professor and Director of its AI Lab). Also a pioneer in online education, Ng co-founded Coursera and deeplearning.ai. He has successfully spearheaded many efforts to \"democratize deep learning\" teaching over 2.5 million students through his online courses. He is one of the world\\'s most famous and influential computer scientists being named one of Time magazine\\'s 100 Most Influential People in 2012, and Fast Company\\'s Most Creative People in 2014. Since 2018 he launched and currently heads AI Fund, initially a $175-million investment f'"
      ]
     },
     "execution_count": 4,
     "metadata": {},
     "output_type": "execute_result"
    }
   ],
   "source": [
    "df.page_content[0][:1000]"
   ]
  },
  {
   "cell_type": "code",
   "execution_count": 5,
   "metadata": {},
   "outputs": [
    {
     "data": {
      "text/plain": [
       "'Jacinda Kate Laurell Ardern (, NZ pronunciation ; born 26 July 1980) is a New Zealand politician who has served as the 40th prime minister of New Zealand and leader of the Labour Party since 2017. She has been the member of Parliament (MP) for Mount Albert since March 2017, having first been elected to the House of Representatives as a list MP in 2008.Born in Hamilton, Ardern grew up in Morrinsville and Murupara, where she attended a state school. After graduating from the University of Waikato in 2001, Ardern began her career working as a researcher in the office of Prime Minister Helen Clark. She later worked in London, within the Cabinet Office, and was elected president of the International Union of Socialist Youth. Ardern was first elected as an MP in the 2008 general election, when Labour lost power after nine years. She was later elected to represent the Mount Albert electorate in a by-election in February 2017.\\nArdern was unanimously elected as deputy leader of the Labour Party'"
      ]
     },
     "execution_count": 5,
     "metadata": {},
     "output_type": "execute_result"
    }
   ],
   "source": [
    "df.page_content[1][:1000]"
   ]
  },
  {
   "cell_type": "markdown",
   "metadata": {},
   "source": [
    "### Anonymize Data"
   ]
  },
  {
   "cell_type": "code",
   "execution_count": 6,
   "metadata": {},
   "outputs": [],
   "source": [
    "# initialize anonymizer\n",
    "anonymizer = ner_anonymizer.DataAnonymizer(pretrained_model_name=\"dslim/bert-base-NER\")"
   ]
  },
  {
   "cell_type": "code",
   "execution_count": 7,
   "metadata": {},
   "outputs": [],
   "source": [
    "# specify free text columns, categorical columns, as well as any other regex \n",
    "# you might want to include to hash the free text columns.\n",
    "# MOTE: this will take some time to download the model & iterate across the \n",
    "#       whole dataset. Have a coffee or go for a run!\n",
    "\n",
    "anonymized_df, hash_dictionary = anonymizer.anonymize(\n",
    "    df=df,\n",
    "    free_text_columns=[\"page_content\"],\n",
    "    free_text_additional_regex_to_hash={\n",
    "        \"page_content\": [\"[0-9]{7, 9}\"] # to pick up potential handphone numbers\n",
    "    },\n",
    "    categorical_columns=[\"person\"]\n",
    ")"
   ]
  },
  {
   "cell_type": "markdown",
   "metadata": {},
   "source": [
    "You may choose to select a different pretrained model from the links below:\n",
    "* https://huggingface.co/transformers/pretrained_models.html\n",
    "* https://huggingface.co/models"
   ]
  },
  {
   "cell_type": "code",
   "execution_count": 8,
   "metadata": {},
   "outputs": [
    {
     "data": {
      "text/html": [
       "<div>\n",
       "<style scoped>\n",
       "    .dataframe tbody tr th:only-of-type {\n",
       "        vertical-align: middle;\n",
       "    }\n",
       "\n",
       "    .dataframe tbody tr th {\n",
       "        vertical-align: top;\n",
       "    }\n",
       "\n",
       "    .dataframe thead th {\n",
       "        text-align: right;\n",
       "    }\n",
       "</style>\n",
       "<table border=\"1\" class=\"dataframe\">\n",
       "  <thead>\n",
       "    <tr style=\"text-align: right;\">\n",
       "      <th></th>\n",
       "      <th>person</th>\n",
       "      <th>page_content</th>\n",
       "    </tr>\n",
       "  </thead>\n",
       "  <tbody>\n",
       "    <tr>\n",
       "      <th>0</th>\n",
       "      <td>d4e4d49054268e95b9f7952db8c0536b</td>\n",
       "      <td>8aae3a73a9a43ee6b04dfd986fe9d136 ff9af30819fb3...</td>\n",
       "    </tr>\n",
       "    <tr>\n",
       "      <th>1</th>\n",
       "      <td>e4c6d0199151ba16ffba9985213c86bf</td>\n",
       "      <td>12e124e5371137dadfeb0fa797958e92 67ac1f0779736...</td>\n",
       "    </tr>\n",
       "  </tbody>\n",
       "</table>\n",
       "</div>"
      ],
      "text/plain": [
       "                             person  \\\n",
       "0  d4e4d49054268e95b9f7952db8c0536b   \n",
       "1  e4c6d0199151ba16ffba9985213c86bf   \n",
       "\n",
       "                                        page_content  \n",
       "0  8aae3a73a9a43ee6b04dfd986fe9d136 ff9af30819fb3...  \n",
       "1  12e124e5371137dadfeb0fa797958e92 67ac1f0779736...  "
      ]
     },
     "execution_count": 8,
     "metadata": {},
     "output_type": "execute_result"
    }
   ],
   "source": [
    "anonymized_df.head()"
   ]
  },
  {
   "cell_type": "markdown",
   "metadata": {},
   "source": [
    "Both the categorical column and the free text column were hashed"
   ]
  },
  {
   "cell_type": "code",
   "execution_count": 9,
   "metadata": {},
   "outputs": [
    {
     "data": {
      "text/plain": [
       "'8aae3a73a9a43ee6b04dfd986fe9d136 ff9af30819fb3c2e35a54034824a183f-3091c457dce701f7c7cc90fe70586c07 (Chinese: 吳恩達; born 1976) is a British-born American businessman, computer scientist, investor, and writer. He is focusing on machine learning and AI. As a businessman and investor, 8582d13498fb14c51eba9bc3742b8c2f co-founded and led Google Brain and was a former Vice President and Chief Scientist at Baidu, building the company\\'s Artificial Intelligence Group into a team of several thousand people.8582d13498fb14c51eba9bc3742b8c2f is an adjunct professor at Stanford University (formerly associate professor and Director of its AI Lab). Also a pioneer in online education, 8582d13498fb14c51eba9bc3742b8c2f co-founded Coursera and deeplearning.ai. He has successfully spearheaded many efforts to \"democratize deep learning\" teaching over 2.5 million students through his online courses. He is one of the world\\'s most famous and influential computer scientists being named one of Time magazine\\'s 100 '"
      ]
     },
     "execution_count": 9,
     "metadata": {},
     "output_type": "execute_result"
    }
   ],
   "source": [
    "# check anonymization results\n",
    "anonymized_df.page_content[0][:1000]"
   ]
  },
  {
   "cell_type": "markdown",
   "metadata": {},
   "source": [
    "Comment: The Chinese name was not hashed, but can be done by specifying a multi-language NER model in the `anonymize` step."
   ]
  },
  {
   "cell_type": "code",
   "execution_count": 10,
   "metadata": {},
   "outputs": [
    {
     "data": {
      "text/plain": [
       "'12e124e5371137dadfeb0fa797958e92 67ac1f0779736ebadf14da5e9b294b69 (, 8e3eb2c69a184ad1d448afe5985f50b3 pronunciation ; born 26 July 1980) is a 03c2e7e41ffc181a4e84080b4710e81e 4841ed0d728f95b3cb393f4a9c9efdbd politician who has served as the 40th prime minister of 03c2e7e41ffc181a4e84080b4710e81e 4841ed0d728f95b3cb393f4a9c9efdbd and leader of the Labour Party since 2017. She has been the member of Parliament (MP) for eace16d66cdd93ad876c620db7456077 91869f9f8d6f767b7b960a41d133fc67 since March 2017, having first been elected to the House of Representatives as a list MP in 2008.Born in adec714ae69bef54c5ee79cfcb41955d, Ardern grew up in c08df9bb5fb44242a6291b1eee5d09ad42e954e0635d0d6894a2d463e08c7a77 0cc175b9c0f1b6a831c399e269772661nd 893b7719713faaa97b1caa5603313723rup0cc175b9c0f1b6a831c399e269772661r0cc175b9c0f1b6a831c399e269772661, where she 0cc175b9c0f1b6a831c399e269772661ttended 0cc175b9c0f1b6a831c399e269772661 st0cc175b9c0f1b6a831c399e269772661te school. 7fc56270e7a70fa81a5935b72ea'"
      ]
     },
     "execution_count": 10,
     "metadata": {},
     "output_type": "execute_result"
    }
   ],
   "source": [
    "# check anonymization results\n",
    "anonymized_df.page_content[1][:1000]"
   ]
  },
  {
   "cell_type": "markdown",
   "metadata": {},
   "source": [
    "Comment: `Ardern` in the third sentence was not picked up by the BERT NER model."
   ]
  },
  {
   "cell_type": "markdown",
   "metadata": {},
   "source": [
    "### De-anonymize Data"
   ]
  },
  {
   "cell_type": "code",
   "execution_count": 11,
   "metadata": {},
   "outputs": [],
   "source": [
    "de_anonymized_df = ner_anonymizer.de_anonymize_data(anonymized_df, hash_dictionary)"
   ]
  },
  {
   "cell_type": "code",
   "execution_count": 12,
   "metadata": {},
   "outputs": [
    {
     "name": "stdout",
     "output_type": "stream",
     "text": [
      "Is the de-anonymized data exactly the same as the original data? True\n"
     ]
    }
   ],
   "source": [
    "print(\n",
    "    \"Is the de-anonymized data exactly the same as the original\",\n",
    "    \"data? {}\".format(df.equals(de_anonymized_df))\n",
    ")"
   ]
  }
 ],
 "metadata": {
  "kernelspec": {
   "display_name": "da_env",
   "language": "python",
   "name": "da_env"
  },
  "language_info": {
   "codemirror_mode": {
    "name": "ipython",
    "version": 3
   },
   "file_extension": ".py",
   "mimetype": "text/x-python",
   "name": "python",
   "nbconvert_exporter": "python",
   "pygments_lexer": "ipython3",
   "version": "3.7.7"
  }
 },
 "nbformat": 4,
 "nbformat_minor": 4
}
